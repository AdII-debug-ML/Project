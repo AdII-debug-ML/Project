{
 "cells": [
  {
   "cell_type": "code",
   "execution_count": null,
   "metadata": {
    "vscode": {
     "languageId": "plaintext"
    }
   },
   "outputs": [],
   "source": [
    "import pandas as pd\n",
    "import numpy as np\n",
    "from sklearn.model_selection import train_test_split\n",
    "from sklearn.preprocessing import LabelEncoder, StandardScaler\n",
    "from sklearn.ensemble import RandomForestClassifier\n",
    "from sklearn.metrics import accuracy_score, classification_report\n",
    "import joblib\n",
    "\n",
    "# Load Dataset\n",
    "df = pd.read_csv(\"Data_Job_Posting.csv\")  # Update the file path\n",
    "\n"
   ]
  },
  {
   "cell_type": "code",
   "execution_count": null,
   "metadata": {
    "vscode": {
     "languageId": "plaintext"
    }
   },
   "outputs": [],
   "source": [
    "# Drop \"Posted Date\" as per request\n",
    "df = df[['Job Title', 'Company', 'Rating', 'Reviews', 'Experience', 'Salary', 'Location', 'Description', 'Skills', 'Fradulent']]\n",
    "\n",
    "# Handle missing values (Fill NA with a default value)\n",
    "df.fillna({'Rating': 0, 'Reviews': 0, 'Experience': '0-1 yrs', 'Salary': 'Not Disclosed'}, inplace=True)\n",
    "\n",
    "# Convert categorical data into numerical using Label Encoding\n",
    "label_encoders = {}\n",
    "for col in ['Job Title', 'Company', 'Experience', 'Salary', 'Location', 'Description', 'Skills']:\n",
    "    le = LabelEncoder()\n",
    "    df[col] = le.fit_transform(df[col].astype(str))  # Convert to string and encode\n",
    "    label_encoders[col] = le  # Store encoders for later use\n",
    "\n",
    "# Define Features and Target\n",
    "X = df.drop(columns=['Fradulent'])  # Features\n",
    "y = df['Fradulent']  # Target Variable\n",
    "\n",
    "# Train-Test Split\n",
    "X_train, X_test, y_train, y_test = train_test_split(X, y, test_size=0.2, random_state=42)\n",
    "\n",
    "# Scale the Features\n",
    "scaler = StandardScaler()\n",
    "X_train = scaler.fit_transform(X_train)\n",
    "X_test = scaler.transform(X_test)\n",
    "\n",
    "# Train Random Forest Model\n",
    "rf_model = RandomForestClassifier(n_estimators=100, random_state=42)\n",
    "rf_model.fit(X_train, y_train)\n",
    "\n",
    "# Predict on Test Data\n",
    "y_pred = rf_model.predict(X_test)\n",
    "\n",
    "# Evaluate Model\n",
    "accuracy = accuracy_score(y_test, y_pred)\n",
    "print(f\"Model Accuracy: {accuracy:.2f}\")\n",
    "print(\"Classification Report:\\n\", classification_report(y_test, y_pred))\n",
    "\n",
    "# Save the model for later use\n",
    "joblib.dump(rf_model, \"random_forest_naukri.pkl\")\n",
    "joblib.dump(scaler, \"scaler.pkl\")\n",
    "joblib.dump(label_encoders, \"label_encoders.pkl\")\n"
   ]
  },
  {
   "cell_type": "code",
   "execution_count": null,
   "metadata": {},
   "outputs": [],
   "source": []
  }
 ],
 "metadata": {
  "language_info": {
   "name": "python"
  }
 },
 "nbformat": 4,
 "nbformat_minor": 2
}
