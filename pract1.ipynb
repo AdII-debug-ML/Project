{
 "cells": [
  {
   "cell_type": "code",
   "execution_count": 3,
   "metadata": {},
   "outputs": [
    {
     "name": "stdout",
     "output_type": "stream",
     "text": [
      "✅ Ensemble Model Accuracy: 1.00\n",
      "🚀 Model training complete and saved!\n"
     ]
    }
   ],
   "source": [
    "import pandas as pd\n",
    "import joblib\n",
    "from sklearn.model_selection import train_test_split\n",
    "from sklearn.preprocessing import LabelEncoder, StandardScaler\n",
    "from sklearn.naive_bayes import GaussianNB\n",
    "from sklearn.ensemble import RandomForestClassifier, VotingClassifier\n",
    "from sklearn.metrics import accuracy_score\n",
    "\n",
    "# Load Dataset (Replace with actual file path)\n",
    "df = pd.read_csv(\"/workspaces/Project/Data_Job_Postings.csv\")\n",
    "\n",
    "# Drop 'Posted Date' if exists\n",
    "df.drop(columns=['Posted Date'], inplace=True, errors='ignore')\n",
    "\n",
    "# Handle missing values\n",
    "df.fillna(\"Unknown\", inplace=True)\n",
    "\n",
    "# Encode categorical columns\n",
    "categorical_cols = ['Description', 'Experience', 'Salary']\n",
    "label_encoders = {}\n",
    "\n",
    "for col in categorical_cols:\n",
    "    le = LabelEncoder()\n",
    "    df[col] = le.fit_transform(df[col].astype(str))\n",
    "    label_encoders[col] = le  # Store encoders for future use\n",
    "\n",
    "# Features and Target\n",
    "X = df[['Rating', 'Reviews', 'Description', 'Experience', 'Salary']]\n",
    "y = df['Fradulent']  # Target column (1 = Fake, 0 = Genuine)\n",
    "\n",
    "# Split dataset\n",
    "X_train, X_test, y_train, y_test = train_test_split(X, y, test_size=0.2, random_state=42)\n",
    "\n",
    "# Standardize data\n",
    "scaler = StandardScaler()\n",
    "X_train_scaled = scaler.fit_transform(X_train)\n",
    "X_test_scaled = scaler.transform(X_test)\n",
    "\n",
    "# Initialize Models\n",
    "nb_model = GaussianNB()\n",
    "rf_model = RandomForestClassifier(n_estimators=100, random_state=42)\n",
    "\n",
    "# Ensemble Model\n",
    "ensemble_model = VotingClassifier(estimators=[\n",
    "    ('naive_bayes', nb_model),\n",
    "    ('random_forest', rf_model)\n",
    "], voting='soft')\n",
    "\n",
    "# Train Model\n",
    "ensemble_model.fit(X_train_scaled, y_train)\n",
    "\n",
    "# Make Predictions\n",
    "y_pred = ensemble_model.predict(X_test_scaled)\n",
    "\n",
    "# Evaluate Model\n",
    "accuracy = accuracy_score(y_test, y_pred)\n",
    "print(f\"✅ Ensemble Model Accuracy: {accuracy:.2f}\")\n",
    "\n",
    "# Save Model, Scaler & Encoders\n",
    "joblib.dump(ensemble_model, \"ensemble_naukri.pkl\")\n",
    "joblib.dump(scaler, \"scaler.pkl\")\n",
    "joblib.dump(label_encoders, \"label_encoders.pkl\")\n",
    "\n",
    "print(\"🚀 Model training complete and saved!\")\n"
   ]
  },
  {
   "cell_type": "code",
   "execution_count": 6,
   "metadata": {},
   "outputs": [
    {
     "name": "stdout",
     "output_type": "stream",
     "text": [
      "🔍 Prediction: ✅ Genuine Job\n"
     ]
    }
   ],
   "source": [
    "import pandas as pd\n",
    "import joblib\n",
    "\n",
    "# Load the saved model, scaler, and encoders\n",
    "ensemble_model = joblib.load(\"ensemble_naukri.pkl\")\n",
    "scaler = joblib.load(\"scaler.pkl\")\n",
    "label_encoders = joblib.load(\"label_encoders.pkl\")\n",
    "\n",
    "# Sample New Job Posting Data (Modify to test different cases)\n",
    "new_job = pd.DataFrame([{\n",
    "    'Rating': 4,  # Moderate rating\n",
    "    'Reviews': 900,  # Moderate reviews\n",
    "    'Description': 'Work from home opportunity for sales executives...',\n",
    "    'Experience': '1-3 yrs',\n",
    "    'Salary': '5-7 LPA'\n",
    "}])\n",
    "\n",
    "# Encode categorical columns\n",
    "for col in ['Description', 'Experience', 'Salary']:\n",
    "    if new_job[col].iloc[0] in label_encoders[col].classes_:\n",
    "        new_job[col] = label_encoders[col].transform(new_job[col].astype(str))\n",
    "    else:\n",
    "        new_job[col] = -1  # Handle unseen labels\n",
    "\n",
    "# Scale Features\n",
    "new_job_scaled = scaler.transform(new_job)\n",
    "\n",
    "# Predict\n",
    "prediction = ensemble_model.predict(new_job_scaled)\n",
    "print(\"🔍 Prediction:\", \"❌ Fake Job\" if prediction[0] == 1 else \"✅ Genuine Job\")\n"
   ]
  },
  {
   "cell_type": "code",
   "execution_count": null,
   "metadata": {},
   "outputs": [],
   "source": []
  }
 ],
 "metadata": {
  "kernelspec": {
   "display_name": "Python 3",
   "language": "python",
   "name": "python3"
  },
  "language_info": {
   "codemirror_mode": {
    "name": "ipython",
    "version": 3
   },
   "file_extension": ".py",
   "mimetype": "text/x-python",
   "name": "python",
   "nbconvert_exporter": "python",
   "pygments_lexer": "ipython3",
   "version": "3.12.1"
  }
 },
 "nbformat": 4,
 "nbformat_minor": 2
}
